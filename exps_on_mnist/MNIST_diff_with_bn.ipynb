{
 "cells": [
  {
   "cell_type": "code",
   "execution_count": 1,
   "id": "9af416e6-86f6-497b-a706-42de7d3397a5",
   "metadata": {},
   "outputs": [],
   "source": [
    "import numpy as np\n",
    "import matplotlib.pyplot as plt\n",
    "\n",
    "import torch\n",
    "from torch import nn\n",
    "from torchvision import datasets\n",
    "from torchvision.transforms import ToTensor\n",
    "from torch.utils.data import DataLoader\n",
    "\n",
    "from IPython.display import clear_output\n",
    "\n",
    "from sklearn.base import BaseEstimator # Decition Plot"
   ]
  },
  {
   "cell_type": "code",
   "execution_count": 2,
   "id": "7b907689-7cfe-4b21-a842-c2858c103e81",
   "metadata": {},
   "outputs": [
    {
     "data": {
      "text/plain": [
       "Dataset MNIST\n",
       "    Number of datapoints: 10000\n",
       "    Root location: ./data\n",
       "    Split: Test"
      ]
     },
     "execution_count": 2,
     "metadata": {},
     "output_type": "execute_result"
    }
   ],
   "source": [
    "datasets.MNIST(root='./data', train=False, download=True, transform=None)"
   ]
  },
  {
   "cell_type": "code",
   "execution_count": 3,
   "id": "3aa9d583-e831-455c-a1d9-87860c833f2b",
   "metadata": {},
   "outputs": [],
   "source": [
    "training_data = datasets.MNIST(\n",
    "    root = 'data',\n",
    "    train = True,                         \n",
    "    transform = ToTensor(), \n",
    "    download = True,            \n",
    ")\n",
    "test_data = datasets.MNIST(\n",
    "    root = 'data', \n",
    "    train = False, \n",
    "    transform = ToTensor()\n",
    ")"
   ]
  },
  {
   "cell_type": "code",
   "execution_count": 4,
   "id": "ae86a265-6efb-4bda-a9f2-318d21ec3f81",
   "metadata": {},
   "outputs": [
    {
     "data": {
      "text/plain": [
       "Dataset MNIST\n",
       "    Number of datapoints: 60000\n",
       "    Root location: data\n",
       "    Split: Train\n",
       "    StandardTransform\n",
       "Transform: ToTensor()"
      ]
     },
     "execution_count": 4,
     "metadata": {},
     "output_type": "execute_result"
    }
   ],
   "source": [
    "training_data"
   ]
  },
  {
   "cell_type": "code",
   "execution_count": 5,
   "id": "aaae4a8c-ae39-46de-9804-976abf0d6740",
   "metadata": {},
   "outputs": [
    {
     "data": {
      "text/plain": [
       "Dataset MNIST\n",
       "    Number of datapoints: 10000\n",
       "    Root location: data\n",
       "    Split: Test\n",
       "    StandardTransform\n",
       "Transform: ToTensor()"
      ]
     },
     "execution_count": 5,
     "metadata": {},
     "output_type": "execute_result"
    }
   ],
   "source": [
    "test_data"
   ]
  },
  {
   "cell_type": "code",
   "execution_count": 6,
   "id": "d1c17314-16db-4981-b5f8-0c80d8b50046",
   "metadata": {},
   "outputs": [],
   "source": [
    "train_dataloader = DataLoader(training_data, batch_size=64, shuffle=True)\n",
    "test_dataloader = DataLoader(test_data, batch_size=64, shuffle=True)"
   ]
  },
  {
   "cell_type": "code",
   "execution_count": 7,
   "id": "707ab3dc-b48c-48f7-8ba3-0a32da707642",
   "metadata": {},
   "outputs": [
    {
     "name": "stdout",
     "output_type": "stream",
     "text": [
      "torch.Size([64, 1, 28, 28])\n"
     ]
    }
   ],
   "source": [
    "for batch in train_dataloader:\n",
    "    print(batch[0].shape)\n",
    "    break"
   ]
  },
  {
   "cell_type": "code",
   "execution_count": 8,
   "id": "fca6de60-d3a1-4920-b41a-34f69921284f",
   "metadata": {},
   "outputs": [
    {
     "data": {
      "text/plain": [
       "'NVIDIA GeForce RTX 3060 Laptop GPU'"
      ]
     },
     "execution_count": 8,
     "metadata": {},
     "output_type": "execute_result"
    }
   ],
   "source": [
    "device = torch.device(\"cuda\") if torch.cuda.is_available() else torch.device(\"cpu\")\n",
    "torch.cuda.get_device_name(0)"
   ]
  },
  {
   "cell_type": "code",
   "execution_count": 9,
   "id": "36ac2c59-cda5-46b0-a4ee-3175318fd775",
   "metadata": {},
   "outputs": [],
   "source": [
    "from ttnet import TTNetForImages\n",
    "from train import train_one_epoch, train, evaluate_acc"
   ]
  },
  {
   "cell_type": "code",
   "execution_count": 11,
   "id": "c266fb2a-b5c8-48e4-910b-438471208738",
   "metadata": {},
   "outputs": [],
   "source": [
    "# x = torch.zeros(32, 1, 28, 28)\n",
    "# model = TTNetForImages(in_channels=1, feat_dim=4, hid_dim=11, depth=16, num_classes=10)\n",
    "# model(x).shape\n"
   ]
  },
  {
   "cell_type": "code",
   "execution_count": 12,
   "id": "19c18f17-5fb0-4bf4-8395-129062b48ef6",
   "metadata": {},
   "outputs": [],
   "source": [
    "# model = TTNetForImages(in_channels=1, feat_dim=4, hid_dim=15, depth=16, num_classes=10)\n",
    "# training_loader = torch.utils.data.DataLoader(training_data, batch_size=32, shuffle=True)\n",
    "# loss_fn = nn.CrossEntropyLoss()\n",
    "# optimizer = torch.optim.Adam(model.parameters(), lr=0.004)\n",
    "\n",
    "# from torchsummary import summary\n",
    "# summary(model, (1, 28, 28), device=\"cpu\")"
   ]
  },
  {
   "cell_type": "code",
   "execution_count": 14,
   "id": "f074dd1f-d658-4a3f-b662-f5bfb733f5fb",
   "metadata": {},
   "outputs": [],
   "source": [
    "# for i, data in enumerate(training_loader):\n",
    "#     if i > 2:\n",
    "#         break\n",
    "#     inputs, labels = data\n",
    "#     logits = model(inputs)\n",
    "#     # print(logits)\n",
    "#     probas = model.predict_proba(inputs)\n",
    "#     # print(probas)"
   ]
  },
  {
   "cell_type": "code",
   "execution_count": 15,
   "id": "64f29426-05f0-4250-ba5f-c56dac9cd2bc",
   "metadata": {},
   "outputs": [],
   "source": [
    "# train_one_epoch(model, loss_fn, optimizer, training_loader)"
   ]
  },
  {
   "cell_type": "code",
   "execution_count": null,
   "id": "405226b0-a3fd-4028-8918-b7de1c755e08",
   "metadata": {},
   "outputs": [],
   "source": []
  },
  {
   "cell_type": "code",
   "execution_count": 16,
   "id": "ecff9f6b-7d82-40f6-9582-6786bc8700a3",
   "metadata": {},
   "outputs": [
    {
     "data": {
      "text/plain": [
       "device(type='cuda')"
      ]
     },
     "execution_count": 16,
     "metadata": {},
     "output_type": "execute_result"
    }
   ],
   "source": [
    "device"
   ]
  },
  {
   "cell_type": "code",
   "execution_count": 18,
   "id": "3384c170-f2b5-4147-b591-66aacdb04c7e",
   "metadata": {},
   "outputs": [],
   "source": [
    "feature_extractor = nn.Sequential(\n",
    "    nn.Conv2d(1, 4, 7, stride=7, padding=0),\n",
    "    nn.ReLU(),\n",
    "    nn.Flatten(start_dim=-2)\n",
    ")\n",
    "\n",
    "model = TTNetForImages(feature_extractor, in_channels=1, feat_dim=4, hid_dim=20, depth=16, num_classes=10)\n",
    "\n",
    "train_dataloader = torch.utils.data.DataLoader(training_data, batch_size=64, shuffle=True)\n",
    "test_dataloader = torch.utils.data.DataLoader(test_data, batch_size=64, shuffle=False)\n",
    "\n",
    "loss_fn = nn.CrossEntropyLoss()\n",
    "optimizer = torch.optim.Adam(model.parameters(), lr=0.0005)"
   ]
  },
  {
   "cell_type": "code",
   "execution_count": 21,
   "id": "580cccef-f2a4-48d0-8984-65ef930f2637",
   "metadata": {},
   "outputs": [
    {
     "data": {
      "image/png": "[encoded data removed]",
      "text/plain": [
       "<Figure size 640x480 with 1 Axes>"
      ]
     },
     "metadata": {},
     "output_type": "display_data"
    }
   ],
   "source": [
    "train(model, loss_fn, optimizer, train_dataloader, epochs=20, device=device)"
   ]
  },
  {
   "cell_type": "code",
   "execution_count": 22,
   "id": "b2be311d-e2f9-4bf8-9a45-fd5f7a670bce",
   "metadata": {},
   "outputs": [
    {
     "name": "stdout",
     "output_type": "stream",
     "text": [
      "tensor(57588, device='cuda:0') 60000\n",
      "tensor(0.9598, device='cuda:0')\n"
     ]
    }
   ],
   "source": [
    "evaluate_acc(model, train_dataloader, device=device)"
   ]
  },
  {
   "cell_type": "code",
   "execution_count": 23,
   "id": "bcbbc8d1-7dfd-4d61-81a8-9a30e8297fb9",
   "metadata": {},
   "outputs": [
    {
     "name": "stdout",
     "output_type": "stream",
     "text": [
      "tensor(9545, device='cuda:0') 10000\n",
      "tensor(0.9545, device='cuda:0')\n"
     ]
    }
   ],
   "source": [
    "evaluate_acc(model, test_dataloader, device=device)"
   ]
  },
  {
   "cell_type": "code",
   "execution_count": null,
   "id": "39c011d6-ad3d-41a1-84e6-93558c224849",
   "metadata": {},
   "outputs": [],
   "source": []
  }
 ],
 "metadata": {
  "kernelspec": {
   "display_name": "Python 3 (ipykernel)",
   "language": "python",
   "name": "python3"
  },
  "language_info": {
   "codemirror_mode": {
    "name": "ipython",
    "version": 3
   },
   "file_extension": ".py",
   "mimetype": "text/x-python",
   "name": "python",
   "nbconvert_exporter": "python",
   "pygments_lexer": "ipython3",
   "version": "3.9.10"
  }
 },
 "nbformat": 4,
 "nbformat_minor": 5
}
